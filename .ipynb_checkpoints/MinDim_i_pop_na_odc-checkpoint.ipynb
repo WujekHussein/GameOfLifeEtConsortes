{
 "cells": [
  {
   "cell_type": "code",
   "execution_count": 30,
   "id": "70f2d9ba-4616-4579-b86f-221f7cab3dbd",
   "metadata": {},
   "outputs": [],
   "source": [
    "import numpy as np\n",
    "import matplotlib.pyplot as plt\n",
    "from scipy.stats import linregress\n",
    "\n",
    "def wiener_process(n, dt = 1):\n",
    "    dw = np.sqrt(dt) * np.random.randn(n-1)\n",
    "    W = np.concatenate([[0.], np.cumsum(dw)])\n",
    "    return W"
   ]
  },
  {
   "cell_type": "code",
   "execution_count": 34,
   "id": "21acb623-784f-486c-ab72-53e8b3b1cff0",
   "metadata": {},
   "outputs": [],
   "source": [
    "def compute_min_dim2D(X, epsilons):\n",
    "    counts = []\n",
    "    for epsilon in epsilons:\n",
    "        n_intervals = int(1/epsilon)\n",
    "        n_points = int(len(X)/n_intervals) ##ile punktów w interwale\n",
    "        count = 0 ##hrabia ziobro\n",
    "        for i in range(n_intervals):\n",
    "            in_range = int((np.max(X[i*n_points:(i+1)*n_points-1]) - np.min(X[i*n_points:(i+1)*n_points-1]))/epsilon)\n",
    "            count += in_range\n",
    "        counts.append(count)\n",
    "    logs = -np.log(np.array(epsilons))\n",
    "    logN = np.log(counts)\n",
    "    slope, intercept, _, _, _ = linregress(logs, logN)\n",
    "    \n",
    "    return slope\n",
    "        "
   ]
  },
  {
   "cell_type": "code",
   "execution_count": 35,
   "id": "b7d91f62-beea-4b7b-b054-eb2e4d5fa7dc",
   "metadata": {},
   "outputs": [],
   "source": [
    "W = wiener_process(10000, 1/10000)"
   ]
  },
  {
   "cell_type": "code",
   "execution_count": 36,
   "id": "3b4c8160-9f71-4849-aba2-cacf2b8fd129",
   "metadata": {},
   "outputs": [
    {
     "data": {
      "text/plain": [
       "np.float64(1.440151396783673)"
      ]
     },
     "execution_count": 36,
     "metadata": {},
     "output_type": "execute_result"
    }
   ],
   "source": [
    "epsilons = []\n",
    "for i in range(10):\n",
    "    epsilons.append(0.5**i)\n",
    "compute_min_dim2D(W, epsilons)\n",
    "    \n"
   ]
  },
  {
   "cell_type": "code",
   "execution_count": 26,
   "id": "e447a5e7-3e7c-43fa-a751-b5d1515cc7c4",
   "metadata": {},
   "outputs": [
    {
     "data": {
      "text/plain": [
       "[1.0,\n",
       " 0.5,\n",
       " 0.25,\n",
       " 0.125,\n",
       " 0.0625,\n",
       " 0.03125,\n",
       " 0.015625,\n",
       " 0.0078125,\n",
       " 0.00390625,\n",
       " 0.001953125]"
      ]
     },
     "execution_count": 26,
     "metadata": {},
     "output_type": "execute_result"
    }
   ],
   "source": [
    "##Zajebiście"
   ]
  },
  {
   "cell_type": "code",
   "execution_count": null,
   "id": "28f29212-b5b8-4a76-a52e-2e5b9469a012",
   "metadata": {},
   "outputs": [],
   "source": [
    "##modelowanie (iteracyjne) populacji na odcinku [0,1]\n"
   ]
  }
 ],
 "metadata": {
  "kernelspec": {
   "display_name": "Python 3 (ipykernel)",
   "language": "python",
   "name": "python3"
  },
  "language_info": {
   "codemirror_mode": {
    "name": "ipython",
    "version": 3
   },
   "file_extension": ".py",
   "mimetype": "text/x-python",
   "name": "python",
   "nbconvert_exporter": "python",
   "pygments_lexer": "ipython3",
   "version": "3.12.6"
  }
 },
 "nbformat": 4,
 "nbformat_minor": 5
}
