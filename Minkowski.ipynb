{
 "cells": [
  {
   "cell_type": "code",
   "execution_count": 66,
   "id": "9881591c-7fd4-491b-9114-e25654685ff5",
   "metadata": {},
   "outputs": [
    {
     "data": {
      "text/plain": [
       "np.float64(0.9873606676636971)"
      ]
     },
     "execution_count": 66,
     "metadata": {},
     "output_type": "execute_result"
    }
   ],
   "source": [
    "import numpy as np\n",
    "from math import ceil\n",
    "def count_squares(fun, interval, scale):\n",
    "    start, end = interval\n",
    "    n=0\n",
    "    for x in np.arange(start, end-scale, scale):\n",
    "        start_val = fun(x)\n",
    "        end_val = fun(x+scale)\n",
    "        sq = ceil(abs(end_val-start_val))\n",
    "        n+=sq\n",
    "    return n\n",
    "        \n",
    "        \n",
    "            \n",
    "\n",
    "def calc_min_dim1D(fun, interval, nofscales = 15, scaling_factor=0.5):\n",
    "    squares = []\n",
    "    scales = []\n",
    "    scale=1.0\n",
    "    for exp in range(nofscales):\n",
    "        scale *= scaling_factor\n",
    "        scales.append(scale)\n",
    "        squares.append(count_squares(fun, interval, scale))\n",
    "    log_squares = np.log(squares)    \n",
    "    log_scales = np.log(scales)\n",
    "    slope, intercept = np.polyfit(log_scales, log_squares, 1)\n",
    "    return -slope\n",
    "\n",
    "def squaring(x):\n",
    "    return (3*x)**4\n",
    "\n",
    "def weierstrass(x, a=0.5, b=3, terms=50):\n",
    "    return sum(a**n * np.cos(b**n * np.pi * x) for n in range(terms))\n",
    "\n",
    "calc_min_dim1D(weierstrass, (0,1),15)\n"
   ]
  },
  {
   "cell_type": "code",
   "execution_count": 52,
   "id": "15236813-dd97-48ce-a089-f5c99922aae0",
   "metadata": {},
   "outputs": [
    {
     "ename": "TypeError",
     "evalue": "ufunc 'bitwise_xor' not supported for the input types, and the inputs could not be safely coerced to any supported types according to the casting rule ''safe''",
     "output_type": "error",
     "traceback": [
      "\u001b[0;31m---------------------------------------------------------------------------\u001b[0m",
      "\u001b[0;31mTypeError\u001b[0m                                 Traceback (most recent call last)",
      "Cell \u001b[0;32mIn[52], line 4\u001b[0m\n\u001b[1;32m      1\u001b[0m \u001b[38;5;28;01mdef\u001b[39;00m \u001b[38;5;21msquaring\u001b[39m(x):\n\u001b[1;32m      2\u001b[0m     \u001b[38;5;28;01mreturn\u001b[39;00m x\u001b[38;5;241m^\u001b[39m\u001b[38;5;241m2\u001b[39m\n\u001b[0;32m----> 4\u001b[0m \u001b[43mcalc_min_dim1D\u001b[49m\u001b[43m(\u001b[49m\u001b[43msquaring\u001b[49m\u001b[43m,\u001b[49m\u001b[43m \u001b[49m\u001b[43m(\u001b[49m\u001b[38;5;241;43m0\u001b[39;49m\u001b[43m,\u001b[49m\u001b[38;5;241;43m1\u001b[39;49m\u001b[43m)\u001b[49m\u001b[43m)\u001b[49m\n",
      "Cell \u001b[0;32mIn[51], line 23\u001b[0m, in \u001b[0;36mcalc_min_dim1D\u001b[0;34m(fun, interval, nofscales, scaling_factor)\u001b[0m\n\u001b[1;32m     21\u001b[0m     scale \u001b[38;5;241m*\u001b[39m\u001b[38;5;241m=\u001b[39m scaling_factor\n\u001b[1;32m     22\u001b[0m     scales\u001b[38;5;241m.\u001b[39mappend(scale)\n\u001b[0;32m---> 23\u001b[0m     squares\u001b[38;5;241m.\u001b[39mappend(\u001b[43mcount_squares\u001b[49m\u001b[43m(\u001b[49m\u001b[43mfun\u001b[49m\u001b[43m,\u001b[49m\u001b[43m \u001b[49m\u001b[43minterval\u001b[49m\u001b[43m,\u001b[49m\u001b[43m \u001b[49m\u001b[43mscale\u001b[49m\u001b[43m)\u001b[49m)\n\u001b[1;32m     24\u001b[0m     slope, intercept \u001b[38;5;241m=\u001b[39m np\u001b[38;5;241m.\u001b[39mpolyfit(scales, squares, \u001b[38;5;241m1\u001b[39m)\n\u001b[1;32m     25\u001b[0m \u001b[38;5;28;01mreturn\u001b[39;00m \u001b[38;5;241m-\u001b[39mslope\n",
      "Cell \u001b[0;32mIn[51], line 7\u001b[0m, in \u001b[0;36mcount_squares\u001b[0;34m(fun, interval, scale)\u001b[0m\n\u001b[1;32m      5\u001b[0m n\u001b[38;5;241m=\u001b[39m\u001b[38;5;241m0\u001b[39m\n\u001b[1;32m      6\u001b[0m \u001b[38;5;28;01mfor\u001b[39;00m x \u001b[38;5;129;01min\u001b[39;00m np\u001b[38;5;241m.\u001b[39marange(start, end\u001b[38;5;241m-\u001b[39mscale, scale):\n\u001b[0;32m----> 7\u001b[0m     start_val \u001b[38;5;241m=\u001b[39m \u001b[43mfun\u001b[49m\u001b[43m(\u001b[49m\u001b[43mx\u001b[49m\u001b[43m)\u001b[49m\n\u001b[1;32m      8\u001b[0m     end_val \u001b[38;5;241m=\u001b[39m fun(x\u001b[38;5;241m+\u001b[39mscale)\n\u001b[1;32m      9\u001b[0m     sq \u001b[38;5;241m=\u001b[39m ceil(\u001b[38;5;28mabs\u001b[39m(end_val\u001b[38;5;241m-\u001b[39mstart_val))\n",
      "Cell \u001b[0;32mIn[52], line 2\u001b[0m, in \u001b[0;36msquaring\u001b[0;34m(x)\u001b[0m\n\u001b[1;32m      1\u001b[0m \u001b[38;5;28;01mdef\u001b[39;00m \u001b[38;5;21msquaring\u001b[39m(x):\n\u001b[0;32m----> 2\u001b[0m     \u001b[38;5;28;01mreturn\u001b[39;00m \u001b[43mx\u001b[49m\u001b[38;5;241;43m^\u001b[39;49m\u001b[38;5;241;43m2\u001b[39;49m\n",
      "\u001b[0;31mTypeError\u001b[0m: ufunc 'bitwise_xor' not supported for the input types, and the inputs could not be safely coerced to any supported types according to the casting rule ''safe''"
     ]
    }
   ],
   "source": []
  },
  {
   "cell_type": "code",
   "execution_count": 11,
   "id": "513f9a72-1380-4e40-a3d1-b52e1f12167f",
   "metadata": {},
   "outputs": [],
   "source": [
    "def paraboloida(x,y):\n",
    "    return x^2+y^2"
   ]
  },
  {
   "cell_type": "code",
   "execution_count": 6,
   "id": "dfeb7b1c-9a80-468f-a02d-967ee38f135b",
   "metadata": {},
   "outputs": [
    {
     "data": {
      "text/plain": [
       "numpy.float64"
      ]
     },
     "execution_count": 6,
     "metadata": {},
     "output_type": "execute_result"
    }
   ],
   "source": [
    "type(grid[0,0])"
   ]
  },
  {
   "cell_type": "code",
   "execution_count": 7,
   "id": "59fca84f-f048-49de-b8ad-85d00891792a",
   "metadata": {},
   "outputs": [
    {
     "data": {
      "text/plain": [
       "(100, 100)"
      ]
     },
     "execution_count": 7,
     "metadata": {},
     "output_type": "execute_result"
    }
   ],
   "source": [
    "grid.shape"
   ]
  },
  {
   "cell_type": "code",
   "execution_count": 12,
   "id": "a6da0d3e-ba0c-4b93-b7a7-c7ed54cbbc1d",
   "metadata": {},
   "outputs": [
    {
     "ename": "TypeError",
     "evalue": "paraboloida() missing 1 required positional argument: 'y'",
     "output_type": "error",
     "traceback": [
      "\u001b[0;31m---------------------------------------------------------------------------\u001b[0m",
      "\u001b[0;31mTypeError\u001b[0m                                 Traceback (most recent call last)",
      "Cell \u001b[0;32mIn[12], line 1\u001b[0m\n\u001b[0;32m----> 1\u001b[0m \u001b[43mparaboloida\u001b[49m\u001b[43m(\u001b[49m\u001b[43mgrid\u001b[49m\u001b[43m)\u001b[49m\n",
      "\u001b[0;31mTypeError\u001b[0m: paraboloida() missing 1 required positional argument: 'y'"
     ]
    }
   ],
   "source": [
    "paraboloida(grid)"
   ]
  },
  {
   "cell_type": "code",
   "execution_count": 9,
   "id": "39696761-256a-414e-bc0e-dc8daec75fdb",
   "metadata": {},
   "outputs": [
    {
     "data": {
      "text/plain": [
       "100"
      ]
     },
     "execution_count": 9,
     "metadata": {},
     "output_type": "execute_result"
    }
   ],
   "source": [
    "x"
   ]
  },
  {
   "cell_type": "code",
   "execution_count": 10,
   "id": "4cb83028-1880-46b7-a993-5e00db60a3a7",
   "metadata": {},
   "outputs": [
    {
     "data": {
      "text/plain": [
       "100"
      ]
     },
     "execution_count": 10,
     "metadata": {},
     "output_type": "execute_result"
    }
   ],
   "source": [
    "y"
   ]
  },
  {
   "cell_type": "code",
   "execution_count": 38,
   "id": "89edd11a-51b6-495a-919e-a48a6fd262e7",
   "metadata": {},
   "outputs": [],
   "source": [
    "def squaring(x):\n",
    "    return x**2\n",
    "def test(func, howmany):\n",
    "    s=0\n",
    "    for i in range(1,howmany+1):\n",
    "        s+=func(i)\n",
    "    return s\n",
    "    "
   ]
  },
  {
   "cell_type": "code",
   "execution_count": 40,
   "id": "572aa290-b16f-4d2b-bc11-d9bc29e79af6",
   "metadata": {},
   "outputs": [
    {
     "data": {
      "text/plain": [
       "91"
      ]
     },
     "execution_count": 40,
     "metadata": {},
     "output_type": "execute_result"
    }
   ],
   "source": [
    "test(squaring, 6)"
   ]
  },
  {
   "cell_type": "code",
   "execution_count": 42,
   "id": "cc74cbb0-6461-4366-a1b1-e662426f41c4",
   "metadata": {},
   "outputs": [],
   "source": [
    "from math import *"
   ]
  },
  {
   "cell_type": "code",
   "execution_count": 43,
   "id": "8d5f566c-f3ef-4ed0-8a3c-f1d8a0733241",
   "metadata": {},
   "outputs": [
    {
     "data": {
      "text/plain": [
       "5"
      ]
     },
     "execution_count": 43,
     "metadata": {},
     "output_type": "execute_result"
    }
   ],
   "source": [
    "ceil(4.5)"
   ]
  },
  {
   "cell_type": "code",
   "execution_count": 46,
   "id": "1c89e0f5-18fe-41aa-9083-024a20b5f497",
   "metadata": {},
   "outputs": [
    {
     "data": {
      "text/plain": [
       "3.141592653589793"
      ]
     },
     "execution_count": 46,
     "metadata": {},
     "output_type": "execute_result"
    }
   ],
   "source": [
    "log(e**pi)"
   ]
  },
  {
   "cell_type": "code",
   "execution_count": 45,
   "id": "82efafd1-511b-4fe3-8a1f-2c86e55dad79",
   "metadata": {},
   "outputs": [
    {
     "data": {
      "text/plain": [
       "3.141592653589793"
      ]
     },
     "execution_count": 45,
     "metadata": {},
     "output_type": "execute_result"
    }
   ],
   "source": []
  },
  {
   "cell_type": "code",
   "execution_count": null,
   "id": "904f0534-6d94-48e4-a034-535eaca3b9d5",
   "metadata": {},
   "outputs": [],
   "source": []
  }
 ],
 "metadata": {
  "kernelspec": {
   "display_name": "Python 3 (ipykernel)",
   "language": "python",
   "name": "python3"
  },
  "language_info": {
   "codemirror_mode": {
    "name": "ipython",
    "version": 3
   },
   "file_extension": ".py",
   "mimetype": "text/x-python",
   "name": "python",
   "nbconvert_exporter": "python",
   "pygments_lexer": "ipython3",
   "version": "3.12.6"
  }
 },
 "nbformat": 4,
 "nbformat_minor": 5
}
